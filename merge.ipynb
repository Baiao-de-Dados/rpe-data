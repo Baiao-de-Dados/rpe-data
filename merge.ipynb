{
  "nbformat": 4,
  "nbformat_minor": 0,
  "metadata": {
    "colab": {
      "provenance": [],
      "authorship_tag": "ABX9TyNISooRJmkUtsXmN+Lco+Kb",
      "include_colab_link": true
    },
    "kernelspec": {
      "name": "python3",
      "display_name": "Python 3"
    },
    "language_info": {
      "name": "python"
    }
  },
  "cells": [
    {
      "cell_type": "markdown",
      "metadata": {
        "id": "view-in-github",
        "colab_type": "text"
      },
      "source": [
        "<a href=\"https://colab.research.google.com/github/Baiao-de-Dados/rpe-data/blob/main/merge.ipynb\" target=\"_parent\"><img src=\"https://colab.research.google.com/assets/colab-badge.svg\" alt=\"Open In Colab\"/></a>"
      ]
    },
    {
      "cell_type": "code",
      "execution_count": null,
      "metadata": {
        "id": "Ca94LJSzOcJ5"
      },
      "outputs": [],
      "source": []
    },
    {
      "cell_type": "markdown",
      "metadata": {
        "id": "944676e3"
      },
      "source": [
        "# Task\n",
        "Process all Excel files in the folder \"/content/drive/MyDrive/Untitled Folder/ciclos/2024_1\", drop specified sheets from each file, merge the remaining sheets while preserving the sheet structure, and save the result as a single XLSX file."
      ]
    },
    {
      "cell_type": "markdown",
      "metadata": {
        "id": "cfb8b1e5"
      },
      "source": [
        "## Mount google drive\n",
        "\n",
        "### Subtask:\n",
        "Mount Google Drive to access the specified folder and files.\n"
      ]
    },
    {
      "cell_type": "markdown",
      "metadata": {
        "id": "292d421b"
      },
      "source": [
        "**Reasoning**:\n",
        "Mount Google Drive to access the files in the specified folder.\n",
        "\n"
      ]
    },
    {
      "cell_type": "code",
      "metadata": {
        "colab": {
          "base_uri": "https://localhost:8080/"
        },
        "id": "e892adef",
        "outputId": "0a260773-1102-4a32-f505-e54dd39253ce"
      },
      "source": [
        "from google.colab import drive\n",
        "drive.mount('/content/drive')"
      ],
      "execution_count": null,
      "outputs": [
        {
          "output_type": "stream",
          "name": "stdout",
          "text": [
            "Drive already mounted at /content/drive; to attempt to forcibly remount, call drive.mount(\"/content/drive\", force_remount=True).\n"
          ]
        }
      ]
    },
    {
      "cell_type": "markdown",
      "metadata": {
        "id": "3d446637"
      },
      "source": [
        "## List files\n",
        "\n",
        "### Subtask:\n",
        "List all Excel files (`.xlsx`) in the specified Google Drive folder.\n"
      ]
    },
    {
      "cell_type": "markdown",
      "metadata": {
        "id": "86a1db82"
      },
      "source": [
        "**Reasoning**:\n",
        "List all Excel files (`.xlsx`) in the specified Google Drive folder.\n",
        "\n"
      ]
    },
    {
      "cell_type": "markdown",
      "metadata": {
        "id": "c6167396"
      },
      "source": [
        "# Task\n",
        "Process all Excel files (both `.xlsx` and `.XLSX`) located in the folder \"/content/drive/MyDrive/Untitled Folder/ciclos/2024_1\", drop specific sheets from each file, merge the remaining sheets from all files while preserving the sheet structure, and save the result as a single Excel file."
      ]
    },
    {
      "cell_type": "markdown",
      "metadata": {
        "id": "19e49f7d"
      },
      "source": [
        "## List files\n",
        "\n",
        "### Subtask:\n",
        "List all Excel files (`.xlsx` and `.XLSX`) in the specified Google Drive folder.\n"
      ]
    },
    {
      "cell_type": "markdown",
      "metadata": {
        "id": "9ef18034"
      },
      "source": [
        "**Reasoning**:\n",
        "List all Excel files (.xlsx and .XLSX) in the specified Google Drive folder.\n",
        "\n"
      ]
    },
    {
      "cell_type": "code",
      "metadata": {
        "colab": {
          "base_uri": "https://localhost:8080/"
        },
        "id": "f70c7464",
        "outputId": "9e285ab1-e840-42bd-cb8e-17d3aac6a22e"
      },
      "source": [
        "import os\n",
        "\n",
        "folder_path = \"/content/drive/MyDrive/Untitled Folder/ciclos/2024_1\"\n",
        "all_files = os.listdir(folder_path)\n",
        "excel_files = [f for f in all_files if f.endswith('.xlsx') or f.endswith('.XLSX')]\n",
        "\n",
        "print(\"Excel files found:\")\n",
        "for file in excel_files:\n",
        "    print(file)"
      ],
      "execution_count": null,
      "outputs": [
        {
          "output_type": "stream",
          "name": "stdout",
          "text": [
            "Excel files found:\n",
            "VITOR_GABRIEL_2024_1.XLSX\n",
            "YURI_DA_2024_1.XLSX\n",
            "VALENTINA_MARTINS_2024_1.XLSX\n",
            "LUIZA_CARVALHO_2024_1.XLSX\n",
            "LORENZO_CUNHA_2024_1.XLSX\n",
            "LEVI_TEIXEIRA_2024_1.XLSX\n",
            "LAURA_BARROS_2024_1.XLSX\n",
            "PIETRA_ARAGÃO_2024_1.XLSX\n",
            "MARIA_VITÓRIA_2024_1.XLSX\n",
            "ANA_VITÓRIA_2024_1.XLSX\n",
            "SAMUEL_JESUS_2024_1.XLSX\n",
            "DRA__JOANA_2024_1.XLSX\n",
            "BRYAN_DIAS_2024_1.XLSX\n",
            "EMANUELLA_FARIAS_2024_1.XLSX\n",
            "DAVI_LUCAS_2024_1.XLSX\n"
          ]
        }
      ]
    },
    {
      "cell_type": "markdown",
      "metadata": {
        "id": "5b18a398"
      },
      "source": [
        "## Process files\n",
        "\n",
        "### Subtask:\n",
        "Iterate through each Excel file, read its sheets, drop the unwanted sheets, and store the remaining data.\n"
      ]
    },
    {
      "cell_type": "markdown",
      "metadata": {
        "id": "27bf73f5"
      },
      "source": [
        "**Reasoning**:\n",
        "Iterate through each Excel file, read its sheets, drop the unwanted sheets, and store the remaining data.\n",
        "\n"
      ]
    },
    {
      "cell_type": "markdown",
      "metadata": {
        "id": "15df09c4"
      },
      "source": [
        "# Task\n",
        "Process Excel files in the folder \"/content/drive/MyDrive/Untitled Folder/ciclos/2024_1\", drop specified sheets from each file, and merge the remaining data into a single Excel file while preserving the original file and sheet information."
      ]
    },
    {
      "cell_type": "markdown",
      "metadata": {
        "id": "8ba38ece"
      },
      "source": [
        "## Process files\n",
        "\n",
        "### Subtask:\n",
        "Iterate through each Excel file, read its sheets, drop the unwanted sheets, and store the remaining data while keeping track of the original filename and sheet name.\n"
      ]
    },
    {
      "cell_type": "markdown",
      "metadata": {
        "id": "9afa03fd"
      },
      "source": [
        "**Reasoning**:\n",
        "Iterate through each Excel file, read its sheets, drop the unwanted sheets, and store the remaining data while keeping track of the original filename and sheet name.\n",
        "\n"
      ]
    },
    {
      "cell_type": "markdown",
      "metadata": {
        "id": "771344f9"
      },
      "source": [
        "# Task\n",
        "Merge all sheets from all Excel files (both .xlsx and .XLSX extensions) located in the \"/content/drive/MyDrive/Untitled Folder/ciclos/2024_1\" folder into a single Excel file, preserving the original sheet names and linking them to the original filenames."
      ]
    },
    {
      "cell_type": "markdown",
      "metadata": {
        "id": "6fb7e4d9"
      },
      "source": [
        "## Process files\n",
        "\n",
        "### Subtask:\n",
        "Iterate through each Excel file, read all of its sheets, and store the data along with the original filename and sheet name.\n"
      ]
    },
    {
      "cell_type": "markdown",
      "metadata": {
        "id": "3566942a"
      },
      "source": [
        "**Reasoning**:\n",
        "Iterate through each Excel file, read all of its sheets, and store the data along with the original filename and sheet name.\n",
        "\n"
      ]
    },
    {
      "cell_type": "code",
      "metadata": {
        "id": "e310239b"
      },
      "source": [
        "import pandas as pd\n",
        "\n",
        "all_sheets_data = []\n",
        "\n",
        "for file in excel_files:\n",
        "    file_path = os.path.join(folder_path, file)\n",
        "    xls = pd.ExcelFile(file_path)\n",
        "    for sheet_name in xls.sheet_names:\n",
        "        df = xls.parse(sheet_name)\n",
        "        df['Original_Filename'] = file\n",
        "        df['Original_Sheetname'] = sheet_name\n",
        "        all_sheets_data.append(df)\n",
        "    xls.close()"
      ],
      "execution_count": null,
      "outputs": []
    },
    {
      "cell_type": "markdown",
      "metadata": {
        "id": "cb027a39"
      },
      "source": [
        "## Merge data\n",
        "\n",
        "### Subtask:\n",
        "Combine the data from all sheets of all processed files into a single structure, preserving the original file and sheet information.\n"
      ]
    },
    {
      "cell_type": "markdown",
      "metadata": {
        "id": "c3ce412e"
      },
      "source": [
        "**Reasoning**:\n",
        "Concatenate all the dataframes in the `all_sheets_data` list into a single dataframe.\n",
        "\n"
      ]
    },
    {
      "cell_type": "code",
      "metadata": {
        "colab": {
          "base_uri": "https://localhost:8080/",
          "height": 539
        },
        "id": "936d7692",
        "outputId": "2e79de5a-fc30-4b72-ebb8-73a5bd3f375e"
      },
      "source": [
        "merged_df = pd.concat(all_sheets_data, ignore_index=True)\n",
        "display(merged_df.head())"
      ],
      "execution_count": null,
      "outputs": [
        {
          "output_type": "display_data",
          "data": {
            "text/plain": [
              "  Nome ( nome.sobrenome )                      Email  Ciclo (ano.semestre)  \\\n",
              "0           vitor.gabriel  vitor.gabriel@example.com                2024.1   \n",
              "1                     NaN                        NaN                   NaN   \n",
              "2                     NaN                        NaN                   NaN   \n",
              "3                     NaN                        NaN                   NaN   \n",
              "4                     NaN                        NaN                   NaN   \n",
              "\n",
              "     Unidade          Original_Filename Original_Sheetname         CRITÉRIO  \\\n",
              "0  São Paulo  VITOR_GABRIEL_2024_1.XLSX             Perfil              NaN   \n",
              "1        NaN  VITOR_GABRIEL_2024_1.XLSX      Autoavaliação      Organização   \n",
              "2        NaN  VITOR_GABRIEL_2024_1.XLSX      Autoavaliação           Imagem   \n",
              "3        NaN  VITOR_GABRIEL_2024_1.XLSX      Autoavaliação       Iniciativa   \n",
              "4        NaN  VITOR_GABRIEL_2024_1.XLSX      Autoavaliação  Comprometimento   \n",
              "\n",
              "                                     DESCRIÇÃO GERAL  AUTO-AVALIAÇÃO  \\\n",
              "0                                                NaN             NaN   \n",
              "1  Ser organizado e contribuir para a organização...             5.0   \n",
              "2  Passar uma imagem pessoal positiva e profissio...             5.0   \n",
              "3  Ser pro-ativo, buscar assumir responsabilidade...             5.0   \n",
              "4  Se dedicar o necessário para atingimento dos r...             2.0   \n",
              "\n",
              "                 DESCRIÇÃO NOTA  \\\n",
              "0                           NaN   \n",
              "1        Supera as expectativas   \n",
              "2        Supera as expectativas   \n",
              "3        Supera as expectativas   \n",
              "4  Fica abaixo das expectativas   \n",
              "\n",
              "  DADOS E FATOS DA AUTO-AVALIAÇÃO\\nCITE, DE FORMA OBJETIVA, CASOS E SITUAÇÕES REAIS  \\\n",
              "0                                                NaN                                  \n",
              "1  - Durante o ciclo, lidero a organização das en...                                  \n",
              "2  - No critério Imagem, tive uma atuação consist...                                  \n",
              "3  - No critério Iniciativa, tive uma atuação con...                                  \n",
              "4  - No critério Comprometimento, estou em proces...                                  \n",
              "\n",
              "  EMAIL DO AVALIADO ( nome.sobrenome )  \\\n",
              "0                                  NaN   \n",
              "1                                  NaN   \n",
              "2                                  NaN   \n",
              "3                                  NaN   \n",
              "4                                  NaN   \n",
              "\n",
              "  PROJETO EM QUE ATUARAM JUNTOS - OBRIGATÓRIO TEREM ATUADOS JUNTOS  PERÍODO  \\\n",
              "0                                                NaN                    NaN   \n",
              "1                                                NaN                    NaN   \n",
              "2                                                NaN                    NaN   \n",
              "3                                                NaN                    NaN   \n",
              "4                                                NaN                    NaN   \n",
              "\n",
              "  VOCÊ FICARIA MOTIVADO EM TRABALHAR NOVAMENTE COM ESTE COLABORADOR  \\\n",
              "0                                                NaN                  \n",
              "1                                                NaN                  \n",
              "2                                                NaN                  \n",
              "3                                                NaN                  \n",
              "4                                                NaN                  \n",
              "\n",
              "   DÊ UMA NOTA GERAL PARA O COLABORADOR PONTOS QUE DEVE MELHORAR  \\\n",
              "0                                   NaN                      NaN   \n",
              "1                                   NaN                      NaN   \n",
              "2                                   NaN                      NaN   \n",
              "3                                   NaN                      NaN   \n",
              "4                                   NaN                      NaN   \n",
              "\n",
              "  PONTOS QUE FAZ BEM E DEVE EXPLORAR EMAIL DA REFERÊNCIA\\n( nome.sobrenome )  \\\n",
              "0                                NaN                                     NaN   \n",
              "1                                NaN                                     NaN   \n",
              "2                                NaN                                     NaN   \n",
              "3                                NaN                                     NaN   \n",
              "4                                NaN                                     NaN   \n",
              "\n",
              "  JUSTIFICATIVA  \n",
              "0           NaN  \n",
              "1           NaN  \n",
              "2           NaN  \n",
              "3           NaN  \n",
              "4           NaN  "
            ],
            "text/html": [
              "\n",
              "  <div id=\"df-0f0d2970-9094-4723-9fed-eaf591ae5b9f\" class=\"colab-df-container\">\n",
              "    <div>\n",
              "<style scoped>\n",
              "    .dataframe tbody tr th:only-of-type {\n",
              "        vertical-align: middle;\n",
              "    }\n",
              "\n",
              "    .dataframe tbody tr th {\n",
              "        vertical-align: top;\n",
              "    }\n",
              "\n",
              "    .dataframe thead th {\n",
              "        text-align: right;\n",
              "    }\n",
              "</style>\n",
              "<table border=\"1\" class=\"dataframe\">\n",
              "  <thead>\n",
              "    <tr style=\"text-align: right;\">\n",
              "      <th></th>\n",
              "      <th>Nome ( nome.sobrenome )</th>\n",
              "      <th>Email</th>\n",
              "      <th>Ciclo (ano.semestre)</th>\n",
              "      <th>Unidade</th>\n",
              "      <th>Original_Filename</th>\n",
              "      <th>Original_Sheetname</th>\n",
              "      <th>CRITÉRIO</th>\n",
              "      <th>DESCRIÇÃO GERAL</th>\n",
              "      <th>AUTO-AVALIAÇÃO</th>\n",
              "      <th>DESCRIÇÃO NOTA</th>\n",
              "      <th>DADOS E FATOS DA AUTO-AVALIAÇÃO\\nCITE, DE FORMA OBJETIVA, CASOS E SITUAÇÕES REAIS</th>\n",
              "      <th>EMAIL DO AVALIADO ( nome.sobrenome )</th>\n",
              "      <th>PROJETO EM QUE ATUARAM JUNTOS - OBRIGATÓRIO TEREM ATUADOS JUNTOS</th>\n",
              "      <th>PERÍODO</th>\n",
              "      <th>VOCÊ FICARIA MOTIVADO EM TRABALHAR NOVAMENTE COM ESTE COLABORADOR</th>\n",
              "      <th>DÊ UMA NOTA GERAL PARA O COLABORADOR</th>\n",
              "      <th>PONTOS QUE DEVE MELHORAR</th>\n",
              "      <th>PONTOS QUE FAZ BEM E DEVE EXPLORAR</th>\n",
              "      <th>EMAIL DA REFERÊNCIA\\n( nome.sobrenome )</th>\n",
              "      <th>JUSTIFICATIVA</th>\n",
              "    </tr>\n",
              "  </thead>\n",
              "  <tbody>\n",
              "    <tr>\n",
              "      <th>0</th>\n",
              "      <td>vitor.gabriel</td>\n",
              "      <td>vitor.gabriel@example.com</td>\n",
              "      <td>2024.1</td>\n",
              "      <td>São Paulo</td>\n",
              "      <td>VITOR_GABRIEL_2024_1.XLSX</td>\n",
              "      <td>Perfil</td>\n",
              "      <td>NaN</td>\n",
              "      <td>NaN</td>\n",
              "      <td>NaN</td>\n",
              "      <td>NaN</td>\n",
              "      <td>NaN</td>\n",
              "      <td>NaN</td>\n",
              "      <td>NaN</td>\n",
              "      <td>NaN</td>\n",
              "      <td>NaN</td>\n",
              "      <td>NaN</td>\n",
              "      <td>NaN</td>\n",
              "      <td>NaN</td>\n",
              "      <td>NaN</td>\n",
              "      <td>NaN</td>\n",
              "    </tr>\n",
              "    <tr>\n",
              "      <th>1</th>\n",
              "      <td>NaN</td>\n",
              "      <td>NaN</td>\n",
              "      <td>NaN</td>\n",
              "      <td>NaN</td>\n",
              "      <td>VITOR_GABRIEL_2024_1.XLSX</td>\n",
              "      <td>Autoavaliação</td>\n",
              "      <td>Organização</td>\n",
              "      <td>Ser organizado e contribuir para a organização...</td>\n",
              "      <td>5.0</td>\n",
              "      <td>Supera as expectativas</td>\n",
              "      <td>- Durante o ciclo, lidero a organização das en...</td>\n",
              "      <td>NaN</td>\n",
              "      <td>NaN</td>\n",
              "      <td>NaN</td>\n",
              "      <td>NaN</td>\n",
              "      <td>NaN</td>\n",
              "      <td>NaN</td>\n",
              "      <td>NaN</td>\n",
              "      <td>NaN</td>\n",
              "      <td>NaN</td>\n",
              "    </tr>\n",
              "    <tr>\n",
              "      <th>2</th>\n",
              "      <td>NaN</td>\n",
              "      <td>NaN</td>\n",
              "      <td>NaN</td>\n",
              "      <td>NaN</td>\n",
              "      <td>VITOR_GABRIEL_2024_1.XLSX</td>\n",
              "      <td>Autoavaliação</td>\n",
              "      <td>Imagem</td>\n",
              "      <td>Passar uma imagem pessoal positiva e profissio...</td>\n",
              "      <td>5.0</td>\n",
              "      <td>Supera as expectativas</td>\n",
              "      <td>- No critério Imagem, tive uma atuação consist...</td>\n",
              "      <td>NaN</td>\n",
              "      <td>NaN</td>\n",
              "      <td>NaN</td>\n",
              "      <td>NaN</td>\n",
              "      <td>NaN</td>\n",
              "      <td>NaN</td>\n",
              "      <td>NaN</td>\n",
              "      <td>NaN</td>\n",
              "      <td>NaN</td>\n",
              "    </tr>\n",
              "    <tr>\n",
              "      <th>3</th>\n",
              "      <td>NaN</td>\n",
              "      <td>NaN</td>\n",
              "      <td>NaN</td>\n",
              "      <td>NaN</td>\n",
              "      <td>VITOR_GABRIEL_2024_1.XLSX</td>\n",
              "      <td>Autoavaliação</td>\n",
              "      <td>Iniciativa</td>\n",
              "      <td>Ser pro-ativo, buscar assumir responsabilidade...</td>\n",
              "      <td>5.0</td>\n",
              "      <td>Supera as expectativas</td>\n",
              "      <td>- No critério Iniciativa, tive uma atuação con...</td>\n",
              "      <td>NaN</td>\n",
              "      <td>NaN</td>\n",
              "      <td>NaN</td>\n",
              "      <td>NaN</td>\n",
              "      <td>NaN</td>\n",
              "      <td>NaN</td>\n",
              "      <td>NaN</td>\n",
              "      <td>NaN</td>\n",
              "      <td>NaN</td>\n",
              "    </tr>\n",
              "    <tr>\n",
              "      <th>4</th>\n",
              "      <td>NaN</td>\n",
              "      <td>NaN</td>\n",
              "      <td>NaN</td>\n",
              "      <td>NaN</td>\n",
              "      <td>VITOR_GABRIEL_2024_1.XLSX</td>\n",
              "      <td>Autoavaliação</td>\n",
              "      <td>Comprometimento</td>\n",
              "      <td>Se dedicar o necessário para atingimento dos r...</td>\n",
              "      <td>2.0</td>\n",
              "      <td>Fica abaixo das expectativas</td>\n",
              "      <td>- No critério Comprometimento, estou em proces...</td>\n",
              "      <td>NaN</td>\n",
              "      <td>NaN</td>\n",
              "      <td>NaN</td>\n",
              "      <td>NaN</td>\n",
              "      <td>NaN</td>\n",
              "      <td>NaN</td>\n",
              "      <td>NaN</td>\n",
              "      <td>NaN</td>\n",
              "      <td>NaN</td>\n",
              "    </tr>\n",
              "  </tbody>\n",
              "</table>\n",
              "</div>\n",
              "    <div class=\"colab-df-buttons\">\n",
              "\n",
              "  <div class=\"colab-df-container\">\n",
              "    <button class=\"colab-df-convert\" onclick=\"convertToInteractive('df-0f0d2970-9094-4723-9fed-eaf591ae5b9f')\"\n",
              "            title=\"Convert this dataframe to an interactive table.\"\n",
              "            style=\"display:none;\">\n",
              "\n",
              "  <svg xmlns=\"http://www.w3.org/2000/svg\" height=\"24px\" viewBox=\"0 -960 960 960\">\n",
              "    <path d=\"M120-120v-720h720v720H120Zm60-500h600v-160H180v160Zm220 220h160v-160H400v160Zm0 220h160v-160H400v160ZM180-400h160v-160H180v160Zm440 0h160v-160H620v160ZM180-180h160v-160H180v160Zm440 0h160v-160H620v160Z\"/>\n",
              "  </svg>\n",
              "    </button>\n",
              "\n",
              "  <style>\n",
              "    .colab-df-container {\n",
              "      display:flex;\n",
              "      gap: 12px;\n",
              "    }\n",
              "\n",
              "    .colab-df-convert {\n",
              "      background-color: #E8F0FE;\n",
              "      border: none;\n",
              "      border-radius: 50%;\n",
              "      cursor: pointer;\n",
              "      display: none;\n",
              "      fill: #1967D2;\n",
              "      height: 32px;\n",
              "      padding: 0 0 0 0;\n",
              "      width: 32px;\n",
              "    }\n",
              "\n",
              "    .colab-df-convert:hover {\n",
              "      background-color: #E2EBFA;\n",
              "      box-shadow: 0px 1px 2px rgba(60, 64, 67, 0.3), 0px 1px 3px 1px rgba(60, 64, 67, 0.15);\n",
              "      fill: #174EA6;\n",
              "    }\n",
              "\n",
              "    .colab-df-buttons div {\n",
              "      margin-bottom: 4px;\n",
              "    }\n",
              "\n",
              "    [theme=dark] .colab-df-convert {\n",
              "      background-color: #3B4455;\n",
              "      fill: #D2E3FC;\n",
              "    }\n",
              "\n",
              "    [theme=dark] .colab-df-convert:hover {\n",
              "      background-color: #434B5C;\n",
              "      box-shadow: 0px 1px 3px 1px rgba(0, 0, 0, 0.15);\n",
              "      filter: drop-shadow(0px 1px 2px rgba(0, 0, 0, 0.3));\n",
              "      fill: #FFFFFF;\n",
              "    }\n",
              "  </style>\n",
              "\n",
              "    <script>\n",
              "      const buttonEl =\n",
              "        document.querySelector('#df-0f0d2970-9094-4723-9fed-eaf591ae5b9f button.colab-df-convert');\n",
              "      buttonEl.style.display =\n",
              "        google.colab.kernel.accessAllowed ? 'block' : 'none';\n",
              "\n",
              "      async function convertToInteractive(key) {\n",
              "        const element = document.querySelector('#df-0f0d2970-9094-4723-9fed-eaf591ae5b9f');\n",
              "        const dataTable =\n",
              "          await google.colab.kernel.invokeFunction('convertToInteractive',\n",
              "                                                    [key], {});\n",
              "        if (!dataTable) return;\n",
              "\n",
              "        const docLinkHtml = 'Like what you see? Visit the ' +\n",
              "          '<a target=\"_blank\" href=https://colab.research.google.com/notebooks/data_table.ipynb>data table notebook</a>'\n",
              "          + ' to learn more about interactive tables.';\n",
              "        element.innerHTML = '';\n",
              "        dataTable['output_type'] = 'display_data';\n",
              "        await google.colab.output.renderOutput(dataTable, element);\n",
              "        const docLink = document.createElement('div');\n",
              "        docLink.innerHTML = docLinkHtml;\n",
              "        element.appendChild(docLink);\n",
              "      }\n",
              "    </script>\n",
              "  </div>\n",
              "\n",
              "\n",
              "    <div id=\"df-98c04d82-8184-43ac-b0d6-886cbc80bfce\">\n",
              "      <button class=\"colab-df-quickchart\" onclick=\"quickchart('df-98c04d82-8184-43ac-b0d6-886cbc80bfce')\"\n",
              "                title=\"Suggest charts\"\n",
              "                style=\"display:none;\">\n",
              "\n",
              "<svg xmlns=\"http://www.w3.org/2000/svg\" height=\"24px\"viewBox=\"0 0 24 24\"\n",
              "     width=\"24px\">\n",
              "    <g>\n",
              "        <path d=\"M19 3H5c-1.1 0-2 .9-2 2v14c0 1.1.9 2 2 2h14c1.1 0 2-.9 2-2V5c0-1.1-.9-2-2-2zM9 17H7v-7h2v7zm4 0h-2V7h2v10zm4 0h-2v-4h2v4z\"/>\n",
              "    </g>\n",
              "</svg>\n",
              "      </button>\n",
              "\n",
              "<style>\n",
              "  .colab-df-quickchart {\n",
              "      --bg-color: #E8F0FE;\n",
              "      --fill-color: #1967D2;\n",
              "      --hover-bg-color: #E2EBFA;\n",
              "      --hover-fill-color: #174EA6;\n",
              "      --disabled-fill-color: #AAA;\n",
              "      --disabled-bg-color: #DDD;\n",
              "  }\n",
              "\n",
              "  [theme=dark] .colab-df-quickchart {\n",
              "      --bg-color: #3B4455;\n",
              "      --fill-color: #D2E3FC;\n",
              "      --hover-bg-color: #434B5C;\n",
              "      --hover-fill-color: #FFFFFF;\n",
              "      --disabled-bg-color: #3B4455;\n",
              "      --disabled-fill-color: #666;\n",
              "  }\n",
              "\n",
              "  .colab-df-quickchart {\n",
              "    background-color: var(--bg-color);\n",
              "    border: none;\n",
              "    border-radius: 50%;\n",
              "    cursor: pointer;\n",
              "    display: none;\n",
              "    fill: var(--fill-color);\n",
              "    height: 32px;\n",
              "    padding: 0;\n",
              "    width: 32px;\n",
              "  }\n",
              "\n",
              "  .colab-df-quickchart:hover {\n",
              "    background-color: var(--hover-bg-color);\n",
              "    box-shadow: 0 1px 2px rgba(60, 64, 67, 0.3), 0 1px 3px 1px rgba(60, 64, 67, 0.15);\n",
              "    fill: var(--button-hover-fill-color);\n",
              "  }\n",
              "\n",
              "  .colab-df-quickchart-complete:disabled,\n",
              "  .colab-df-quickchart-complete:disabled:hover {\n",
              "    background-color: var(--disabled-bg-color);\n",
              "    fill: var(--disabled-fill-color);\n",
              "    box-shadow: none;\n",
              "  }\n",
              "\n",
              "  .colab-df-spinner {\n",
              "    border: 2px solid var(--fill-color);\n",
              "    border-color: transparent;\n",
              "    border-bottom-color: var(--fill-color);\n",
              "    animation:\n",
              "      spin 1s steps(1) infinite;\n",
              "  }\n",
              "\n",
              "  @keyframes spin {\n",
              "    0% {\n",
              "      border-color: transparent;\n",
              "      border-bottom-color: var(--fill-color);\n",
              "      border-left-color: var(--fill-color);\n",
              "    }\n",
              "    20% {\n",
              "      border-color: transparent;\n",
              "      border-left-color: var(--fill-color);\n",
              "      border-top-color: var(--fill-color);\n",
              "    }\n",
              "    30% {\n",
              "      border-color: transparent;\n",
              "      border-left-color: var(--fill-color);\n",
              "      border-top-color: var(--fill-color);\n",
              "      border-right-color: var(--fill-color);\n",
              "    }\n",
              "    40% {\n",
              "      border-color: transparent;\n",
              "      border-right-color: var(--fill-color);\n",
              "      border-top-color: var(--fill-color);\n",
              "    }\n",
              "    60% {\n",
              "      border-color: transparent;\n",
              "      border-right-color: var(--fill-color);\n",
              "    }\n",
              "    80% {\n",
              "      border-color: transparent;\n",
              "      border-right-color: var(--fill-color);\n",
              "      border-bottom-color: var(--fill-color);\n",
              "    }\n",
              "    90% {\n",
              "      border-color: transparent;\n",
              "      border-bottom-color: var(--fill-color);\n",
              "    }\n",
              "  }\n",
              "</style>\n",
              "\n",
              "      <script>\n",
              "        async function quickchart(key) {\n",
              "          const quickchartButtonEl =\n",
              "            document.querySelector('#' + key + ' button');\n",
              "          quickchartButtonEl.disabled = true;  // To prevent multiple clicks.\n",
              "          quickchartButtonEl.classList.add('colab-df-spinner');\n",
              "          try {\n",
              "            const charts = await google.colab.kernel.invokeFunction(\n",
              "                'suggestCharts', [key], {});\n",
              "          } catch (error) {\n",
              "            console.error('Error during call to suggestCharts:', error);\n",
              "          }\n",
              "          quickchartButtonEl.classList.remove('colab-df-spinner');\n",
              "          quickchartButtonEl.classList.add('colab-df-quickchart-complete');\n",
              "        }\n",
              "        (() => {\n",
              "          let quickchartButtonEl =\n",
              "            document.querySelector('#df-98c04d82-8184-43ac-b0d6-886cbc80bfce button');\n",
              "          quickchartButtonEl.style.display =\n",
              "            google.colab.kernel.accessAllowed ? 'block' : 'none';\n",
              "        })();\n",
              "      </script>\n",
              "    </div>\n",
              "\n",
              "    </div>\n",
              "  </div>\n"
            ],
            "application/vnd.google.colaboratory.intrinsic+json": {
              "type": "dataframe",
              "repr_error": "Out of range float values are not JSON compliant: nan"
            }
          },
          "metadata": {}
        }
      ]
    },
    {
      "cell_type": "markdown",
      "metadata": {
        "id": "9015c63d"
      },
      "source": [
        "## Save merged file\n",
        "\n",
        "### Subtask:\n",
        "Save the merged data into a new Excel file, potentially with sheet names indicating the original file and sheet.\n"
      ]
    },
    {
      "cell_type": "markdown",
      "metadata": {
        "id": "cf1401be"
      },
      "source": [
        "**Reasoning**:\n",
        "Save the merged DataFrame to a new Excel file, excluding the DataFrame index.\n",
        "\n"
      ]
    },
    {
      "cell_type": "code",
      "metadata": {
        "id": "27583c0f"
      },
      "source": [
        "output_file_path = \"/content/drive/MyDrive/Untitled Folder/ciclos/2024_1/merged_data.xlsx\"\n",
        "merged_df.to_excel(output_file_path, index=False)"
      ],
      "execution_count": null,
      "outputs": []
    },
    {
      "cell_type": "markdown",
      "metadata": {
        "id": "700d6015"
      },
      "source": [
        "## Summary:\n",
        "\n",
        "### Data Analysis Key Findings\n",
        "\n",
        "*   All sheets from all Excel files (.xlsx and .XLSX extensions) in the specified folder were successfully read and processed.\n",
        "*   During processing, each row of data was tagged with its `Original_Filename` and `Original_Sheetname`.\n",
        "*   The data from all sheets was successfully concatenated into a single pandas DataFrame.\n",
        "*   The merged data, including the original file and sheet information, was saved to a new Excel file named \"merged\\_data.xlsx\".\n",
        "\n",
        "### Insights or Next Steps\n",
        "\n",
        "*   The merged dataset can now be used for comprehensive analysis across all the original files and sheets.\n",
        "*   Consider adding a column to indicate the date the data was merged for future reference.\n"
      ]
    },
    {
      "cell_type": "markdown",
      "metadata": {
        "id": "c212e404"
      },
      "source": [
        "# Task\n",
        "Merge all Excel files (case-insensitive .xlsx and .XLSX extensions) within each subfolder of \"/content/drive/MyDrive/Untitled Folder/ciclos\", excluding the \"2024_1\" subfolder. For each subfolder, read all sheets from all Excel files, combine the data while preserving the original filename and sheet name information, and save the merged data into a new Excel file within that subfolder."
      ]
    },
    {
      "cell_type": "markdown",
      "metadata": {
        "id": "00053439"
      },
      "source": [
        "## Mount google drive\n",
        "\n",
        "### Subtask:\n",
        "Ensure Google Drive is mounted to access the files.\n"
      ]
    },
    {
      "cell_type": "markdown",
      "metadata": {
        "id": "5556c436"
      },
      "source": [
        "**Reasoning**:\n",
        "Mount Google Drive to access the files in the specified folder.\n",
        "\n"
      ]
    },
    {
      "cell_type": "code",
      "metadata": {
        "colab": {
          "base_uri": "https://localhost:8080/"
        },
        "id": "de4bfb9e",
        "outputId": "d9d2ade2-fea8-4ad3-cf01-20b15a6f6d2a"
      },
      "source": [
        "from google.colab import drive\n",
        "drive.mount('/content/drive')"
      ],
      "execution_count": null,
      "outputs": [
        {
          "output_type": "stream",
          "name": "stdout",
          "text": [
            "Drive already mounted at /content/drive; to attempt to forcibly remount, call drive.mount(\"/content/drive\", force_remount=True).\n"
          ]
        }
      ]
    },
    {
      "cell_type": "markdown",
      "metadata": {
        "id": "90a8b429"
      },
      "source": [
        "## List folders\n",
        "\n",
        "### Subtask:\n",
        "List all subfolders within the `/content/drive/MyDrive/Untitled Folder/ciclos` directory, excluding the \"2024_1\" folder.\n"
      ]
    },
    {
      "cell_type": "markdown",
      "metadata": {
        "id": "573b9d43"
      },
      "source": [
        "**Reasoning**:\n",
        "List all entries in the base directory, identify the subfolders excluding \"2024_1\", and store their paths.\n",
        "\n"
      ]
    },
    {
      "cell_type": "code",
      "metadata": {
        "colab": {
          "base_uri": "https://localhost:8080/"
        },
        "id": "d2499e50",
        "outputId": "7e7fc1ec-302f-48cc-b2c3-597eae711f18"
      },
      "source": [
        "base_dir = \"/content/drive/MyDrive/Untitled Folder/ciclos\"\n",
        "all_entries = os.listdir(base_dir)\n",
        "subfolders = []\n",
        "for entry in all_entries:\n",
        "    entry_path = os.path.join(base_dir, entry)\n",
        "    if os.path.isdir(entry_path) and entry != \"2024_1\":\n",
        "        subfolders.append(entry_path)\n",
        "\n",
        "print(\"Identified subfolders (excluding 2024_1):\")\n",
        "for folder in subfolders:\n",
        "    print(folder)"
      ],
      "execution_count": null,
      "outputs": [
        {
          "output_type": "stream",
          "name": "stdout",
          "text": [
            "Identified subfolders (excluding 2024_1):\n",
            "/content/drive/MyDrive/Untitled Folder/ciclos/2025_1\n",
            "/content/drive/MyDrive/Untitled Folder/ciclos/2024_2\n"
          ]
        }
      ]
    },
    {
      "cell_type": "markdown",
      "metadata": {
        "id": "0bb96520"
      },
      "source": [
        "## Iterate through folders\n",
        "\n",
        "### Subtask:\n",
        "Loop through each identified subfolder.\n"
      ]
    },
    {
      "cell_type": "markdown",
      "metadata": {
        "id": "2e583948"
      },
      "source": [
        "**Reasoning**:\n",
        "Loop through each identified subfolder to process the files within them.\n",
        "\n"
      ]
    },
    {
      "cell_type": "code",
      "metadata": {
        "colab": {
          "base_uri": "https://localhost:8080/"
        },
        "id": "47a16e6a",
        "outputId": "e6a07f6c-4d60-4734-c169-dc54bb542b62"
      },
      "source": [
        "for folder_path in subfolders:\n",
        "    print(f\"Processing folder: {folder_path}\")\n",
        "    # The subsequent steps (listing files, processing files, merging data, and saving)\n",
        "    # will be implemented inside this loop for the current folder_path."
      ],
      "execution_count": null,
      "outputs": [
        {
          "output_type": "stream",
          "name": "stdout",
          "text": [
            "Processing folder: /content/drive/MyDrive/Untitled Folder/ciclos/2025_1\n",
            "Processing folder: /content/drive/MyDrive/Untitled Folder/ciclos/2024_2\n"
          ]
        }
      ]
    },
    {
      "cell_type": "markdown",
      "metadata": {
        "id": "f4195695"
      },
      "source": [
        "**Reasoning**:\n",
        "The looping through subfolders is complete. Now I need to add the logic to list the Excel files within each folder.\n",
        "\n"
      ]
    },
    {
      "cell_type": "code",
      "metadata": {
        "colab": {
          "base_uri": "https://localhost:8080/"
        },
        "id": "8292cf7c",
        "outputId": "31ea9021-e341-41ab-d7b7-67812549e21e"
      },
      "source": [
        "import pandas as pd\n",
        "import os\n",
        "\n",
        "for folder_path in subfolders:\n",
        "    print(f\"Processing folder: {folder_path}\")\n",
        "    all_files = os.listdir(folder_path)\n",
        "    excel_files = [f for f in all_files if f.endswith('.xlsx') or f.endswith('.XLSX')]\n",
        "    print(f\"  Found {len(excel_files)} Excel files.\")\n",
        "    # Subsequent steps will be added here"
      ],
      "execution_count": null,
      "outputs": [
        {
          "output_type": "stream",
          "name": "stdout",
          "text": [
            "Processing folder: /content/drive/MyDrive/Untitled Folder/ciclos/2025_1\n",
            "  Found 13 Excel files.\n",
            "Processing folder: /content/drive/MyDrive/Untitled Folder/ciclos/2024_2\n",
            "  Found 12 Excel files.\n"
          ]
        }
      ]
    },
    {
      "cell_type": "markdown",
      "metadata": {
        "id": "8c4b0f4d"
      },
      "source": [
        "**Reasoning**:\n",
        "Now that the Excel files in each folder are identified, the next step is to iterate through these files, read their sheets, and store the data along with the original filename and sheet name.\n",
        "\n"
      ]
    },
    {
      "cell_type": "code",
      "metadata": {
        "colab": {
          "base_uri": "https://localhost:8080/"
        },
        "id": "a9b781d3",
        "outputId": "de781a6b-9fa5-451c-f012-bfda8f95d99a"
      },
      "source": [
        "import pandas as pd\n",
        "import os\n",
        "\n",
        "for folder_path in subfolders:\n",
        "    print(f\"Processing folder: {folder_path}\")\n",
        "    all_files = os.listdir(folder_path)\n",
        "    excel_files = [f for f in all_files if f.endswith('.xlsx') or f.endswith('.XLSX')]\n",
        "    print(f\"  Found {len(excel_files)} Excel files.\")\n",
        "\n",
        "    all_sheets_data = []\n",
        "    for file in excel_files:\n",
        "        file_path = os.path.join(folder_path, file)\n",
        "        try:\n",
        "            xls = pd.ExcelFile(file_path)\n",
        "            for sheet_name in xls.sheet_names:\n",
        "                df = xls.parse(sheet_name)\n",
        "                df['Original_Filename'] = file\n",
        "                df['Original_Sheetname'] = sheet_name\n",
        "                all_sheets_data.append(df)\n",
        "            xls.close()\n",
        "        except Exception as e:\n",
        "            print(f\"Error processing file {file}: {e}\")\n",
        "    # Subsequent steps will be added here"
      ],
      "execution_count": null,
      "outputs": [
        {
          "output_type": "stream",
          "name": "stdout",
          "text": [
            "Processing folder: /content/drive/MyDrive/Untitled Folder/ciclos/2025_1\n",
            "  Found 13 Excel files.\n",
            "Processing folder: /content/drive/MyDrive/Untitled Folder/ciclos/2024_2\n",
            "  Found 12 Excel files.\n"
          ]
        }
      ]
    },
    {
      "cell_type": "markdown",
      "metadata": {
        "id": "3ad07dcf"
      },
      "source": [
        "**Reasoning**:\n",
        "After reading all sheets from the Excel files in a subfolder, the next step is to merge the collected dataframes into a single dataframe for that specific subfolder.\n",
        "\n"
      ]
    },
    {
      "cell_type": "code",
      "metadata": {
        "colab": {
          "base_uri": "https://localhost:8080/"
        },
        "id": "0b469f57",
        "outputId": "941b13ab-f793-4b42-a424-129badcb4c19"
      },
      "source": [
        "import pandas as pd\n",
        "import os\n",
        "\n",
        "for folder_path in subfolders:\n",
        "    print(f\"Processing folder: {folder_path}\")\n",
        "    all_files = os.listdir(folder_path)\n",
        "    excel_files = [f for f in all_files if f.endswith('.xlsx') or f.endswith('.XLSX')]\n",
        "    print(f\"  Found {len(excel_files)} Excel files.\")\n",
        "\n",
        "    all_sheets_data = []\n",
        "    for file in excel_files:\n",
        "        file_path = os.path.join(folder_path, file)\n",
        "        try:\n",
        "            xls = pd.ExcelFile(file_path)\n",
        "            for sheet_name in xls.sheet_names:\n",
        "                df = xls.parse(sheet_name)\n",
        "                df['Original_Filename'] = file\n",
        "                df['Original_Sheetname'] = sheet_name\n",
        "                all_sheets_data.append(df)\n",
        "            xls.close()\n",
        "        except Exception as e:\n",
        "            print(f\"Error processing file {file}: {e}\")\n",
        "\n",
        "    if all_sheets_data:\n",
        "        merged_df = pd.concat(all_sheets_data, ignore_index=True)\n",
        "        print(f\"  Merged data from {len(all_sheets_data)} sheets.\")\n",
        "        # Subsequent steps (saving) will be added here\n",
        "    else:\n",
        "        print(f\"  No data to merge for folder: {folder_path}\")"
      ],
      "execution_count": null,
      "outputs": [
        {
          "output_type": "stream",
          "name": "stdout",
          "text": [
            "Processing folder: /content/drive/MyDrive/Untitled Folder/ciclos/2025_1\n",
            "  Found 13 Excel files.\n",
            "  Merged data from 52 sheets.\n",
            "Processing folder: /content/drive/MyDrive/Untitled Folder/ciclos/2024_2\n",
            "  Found 12 Excel files.\n",
            "  Merged data from 48 sheets.\n"
          ]
        }
      ]
    },
    {
      "cell_type": "markdown",
      "metadata": {
        "id": "250c79b6"
      },
      "source": [
        "**Reasoning**:\n",
        "The final step for each subfolder is to save the merged dataframe to a new Excel file within that subfolder.\n",
        "\n"
      ]
    },
    {
      "cell_type": "code",
      "metadata": {
        "colab": {
          "base_uri": "https://localhost:8080/"
        },
        "id": "e583638e",
        "outputId": "1c6ce88f-b4c1-490d-eabc-a7a5c3afb027"
      },
      "source": [
        "import pandas as pd\n",
        "import os\n",
        "\n",
        "for folder_path in subfolders:\n",
        "    print(f\"Processing folder: {folder_path}\")\n",
        "    all_files = os.listdir(folder_path)\n",
        "    excel_files = [f for f in all_files if f.endswith('.xlsx') or f.endswith('.XLSX')]\n",
        "    print(f\"  Found {len(excel_files)} Excel files.\")\n",
        "\n",
        "    all_sheets_data = []\n",
        "    for file in excel_files:\n",
        "        file_path = os.path.join(folder_path, file)\n",
        "        try:\n",
        "            xls = pd.ExcelFile(file_path)\n",
        "            for sheet_name in xls.sheet_names:\n",
        "                df = xls.parse(sheet_name)\n",
        "                df['Original_Filename'] = file\n",
        "                df['Original_Sheetname'] = sheet_name\n",
        "                all_sheets_data.append(df)\n",
        "            xls.close()\n",
        "        except Exception as e:\n",
        "            print(f\"Error processing file {file}: {e}\")\n",
        "\n",
        "    if all_sheets_data:\n",
        "        merged_df = pd.concat(all_sheets_data, ignore_index=True)\n",
        "        print(f\"  Merged data from {len(all_sheets_data)} sheets.\")\n",
        "\n",
        "        output_file_path = os.path.join(folder_path, \"merged_data.xlsx\")\n",
        "        merged_df.to_excel(output_file_path, index=False)\n",
        "        print(f\"  Saved merged data to: {output_file_path}\")\n",
        "    else:\n",
        "        print(f\"  No data to merge for folder: {folder_path}\")\n"
      ],
      "execution_count": null,
      "outputs": [
        {
          "output_type": "stream",
          "name": "stdout",
          "text": [
            "Processing folder: /content/drive/MyDrive/Untitled Folder/ciclos/2025_1\n",
            "  Found 13 Excel files.\n",
            "  Merged data from 52 sheets.\n",
            "  Saved merged data to: /content/drive/MyDrive/Untitled Folder/ciclos/2025_1/merged_data.xlsx\n",
            "Processing folder: /content/drive/MyDrive/Untitled Folder/ciclos/2024_2\n",
            "  Found 12 Excel files.\n",
            "  Merged data from 48 sheets.\n",
            "  Saved merged data to: /content/drive/MyDrive/Untitled Folder/ciclos/2024_2/merged_data.xlsx\n"
          ]
        }
      ]
    },
    {
      "cell_type": "markdown",
      "metadata": {
        "id": "cbfa7915"
      },
      "source": [
        "## Summary:\n",
        "\n",
        "### Data Analysis Key Findings\n",
        "\n",
        "*   Google Drive was successfully mounted, allowing access to the specified file path.\n",
        "*   The subfolders `/content/drive/MyDrive/Untitled Folder/ciclos/2025_1` and `/content/drive/MyDrive/Untitled Folder/ciclos/2024_2` were correctly identified for processing, while the \"2024\\_1\" subfolder was successfully excluded.\n",
        "*   For each identified subfolder, all Excel files (with both `.xlsx` and `.XLSX` extensions) were found and processed.\n",
        "*   Data from all sheets within the Excel files in each subfolder was read.\n",
        "*   New columns, `Original_Filename` and `Original_Sheetname`, were successfully added to the dataframes to track the origin of the data.\n",
        "*   The data from all sheets within each subfolder was successfully merged into a single dataframe.\n",
        "*   The merged data for each subfolder was saved to a new Excel file named `merged_data.xlsx` within the corresponding subfolder.\n",
        "\n",
        "### Insights or Next Steps\n",
        "\n",
        "*   The process effectively consolidates data from multiple Excel files and sheets within a specific directory structure while preserving metadata about the data source.\n",
        "*   Consider adding error handling for cases where Excel files might be corrupted or in an unreadable format to make the script more robust.\n"
      ]
    }
  ]
}